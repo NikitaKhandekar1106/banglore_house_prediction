{
 "cells": [
  {
   "cell_type": "code",
   "execution_count": 1,
   "id": "binding-bundle",
   "metadata": {},
   "outputs": [
    {
     "name": "stderr",
     "output_type": "stream",
     "text": [
      "WARNING: You are using pip version 20.2.3; however, version 21.0.1 is available.\n",
      "You should consider upgrading via the 'c:\\program files\\python39\\python.exe -m pip install --upgrade pip' command.\n"
     ]
    },
    {
     "name": "stdout",
     "output_type": "stream",
     "text": [
      "Defaulting to user installation because normal site-packages is not writeable\n",
      "Collecting pymongo\n",
      "  Downloading pymongo-3.11.3-cp39-cp39-win_amd64.whl (383 kB)\n",
      "Installing collected packages: pymongo\n",
      "Successfully installed pymongo-3.11.3\n"
     ]
    }
   ],
   "source": [
    "!pip install pymongo"
   ]
  },
  {
   "cell_type": "code",
   "execution_count": null,
   "id": "stuck-ecology",
   "metadata": {},
   "outputs": [],
   "source": []
  },
  {
   "cell_type": "code",
   "execution_count": 26,
   "id": "racial-decimal",
   "metadata": {},
   "outputs": [],
   "source": [
    "import pickle\n",
    "import json\n",
    "import numpy as np\n",
    "file_path = 'banglore_home_prices_model1.pickle'\n",
    "model = pickle.load(open(file_path,'rb'))"
   ]
  },
  {
   "cell_type": "code",
   "execution_count": 27,
   "id": "dressed-louis",
   "metadata": {},
   "outputs": [
    {
     "data": {
      "text/plain": [
       "-3.132417852503252"
      ]
     },
     "execution_count": 27,
     "metadata": {},
     "output_type": "execute_result"
    }
   ],
   "source": [
    "model.intercept_"
   ]
  },
  {
   "cell_type": "code",
   "execution_count": 44,
   "id": "sunrise-vermont",
   "metadata": {},
   "outputs": [],
   "source": [
    "with open(\"columns1.json\", \"r\") as f:\n",
    "    data_columns = json.load(f)['data_columns']\n",
    "    locations_list = data_columns  # first 3 columns are sqft, bath, bhk"
   ]
  },
  {
   "cell_type": "code",
   "execution_count": 48,
   "id": "initial-remainder",
   "metadata": {},
   "outputs": [],
   "source": [
    "def predict_price(location,sqft,bath,bhk):\n",
    "    location = location.lower()\n",
    "    loc_index = locations_list.index(location)\n",
    "    x = np.zeros(len(locations_list))\n",
    "    x[0] = sqft\n",
    "    x[1] = bath\n",
    "    x[2] = bhk\n",
    "    x[loc_index] = 1  # x[4] = 1\n",
    "    return model.predict([x])[0]"
   ]
  },
  {
   "cell_type": "code",
   "execution_count": 49,
   "id": "certified-movement",
   "metadata": {},
   "outputs": [
    {
     "data": {
      "text/plain": [
       "117.08378459837844"
      ]
     },
     "execution_count": 49,
     "metadata": {},
     "output_type": "execute_result"
    }
   ],
   "source": [
    "predict_price('Chikka Tirupathi',2600, 5, 4)"
   ]
  },
  {
   "cell_type": "code",
   "execution_count": 50,
   "id": "adult-jesus",
   "metadata": {},
   "outputs": [],
   "source": [
    "def get_predicted_price(location,sqft,bath,bhk):\n",
    "    file_path = 'banglore_home_prices_model1.pickle'\n",
    "    model = pickle.load(open(file_path,'rb'))\n",
    "    \n",
    "    with open(\"columns1.json\", \"r\") as f:\n",
    "        data_columns = json.load(f)['data_columns']\n",
    "        locations_list = data_columns  # first 3 columns are sqft, bath, bhk\n",
    "        \n",
    "    location = location.lower()\n",
    "    loc_index = locations_list.index(location)\n",
    "    x = np.zeros(len(locations_list))\n",
    "    x[0] = sqft\n",
    "    x[1] = bath\n",
    "    x[2] = bhk\n",
    "    x[loc_index] = 1  # x[4] = 1\n",
    "    return model.predict([x])[0]"
   ]
  },
  {
   "cell_type": "code",
   "execution_count": 51,
   "id": "angry-foundation",
   "metadata": {},
   "outputs": [
    {
     "name": "stderr",
     "output_type": "stream",
     "text": [
      "c:\\users\\rahul\\appdata\\local\\programs\\python\\python38\\lib\\site-packages\\sklearn\\base.py:310: UserWarning: Trying to unpickle estimator LinearRegression from version 0.23.2 when using version 0.24.1. This might lead to breaking code or invalid results. Use at your own risk.\n",
      "  warnings.warn(\n"
     ]
    },
    {
     "data": {
      "text/plain": [
       "117.08378459837844"
      ]
     },
     "execution_count": 51,
     "metadata": {},
     "output_type": "execute_result"
    }
   ],
   "source": [
    "get_predicted_price('Chikka Tirupathi',2600, 5, 4)"
   ]
  },
  {
   "cell_type": "code",
   "execution_count": null,
   "id": "coral-wedding",
   "metadata": {},
   "outputs": [],
   "source": []
  }
 ],
 "metadata": {
  "kernelspec": {
   "display_name": "Python 3",
   "language": "python",
   "name": "python3"
  },
  "language_info": {
   "codemirror_mode": {
    "name": "ipython",
    "version": 3
   },
   "file_extension": ".py",
   "mimetype": "text/x-python",
   "name": "python",
   "nbconvert_exporter": "python",
   "pygments_lexer": "ipython3",
   "version": "3.9.2"
  }
 },
 "nbformat": 4,
 "nbformat_minor": 5
}
